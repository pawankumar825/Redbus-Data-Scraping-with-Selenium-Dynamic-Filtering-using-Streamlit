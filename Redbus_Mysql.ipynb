{
 "cells": [
  {
   "cell_type": "code",
   "execution_count": 1,
   "id": "a669f7df-fc71-4fbc-bd07-d3964eaf484e",
   "metadata": {},
   "outputs": [],
   "source": [
    "import pandas as pd\n",
    "import mysql.connector\n",
    "import numpy as np"
   ]
  },
  {
   "cell_type": "code",
   "execution_count": 2,
   "id": "e742e3f8-c622-48ae-8dd1-2100bf4c2d92",
   "metadata": {},
   "outputs": [],
   "source": [
    "# Define the CSV file path\n",
    "csv_path = r\"P:\\Capstone Guvi\\Redbus Data Scrapping\\redbus_all_bus_data.csv\"\n",
    "\n",
    "# Load the CSV file into a DataFrame\n",
    "df = pd.read_csv(csv_path)"
   ]
  },
  {
   "cell_type": "markdown",
   "id": "b7336351-6e6b-4b0a-83a1-32eca0613268",
   "metadata": {},
   "source": [
    "## Data Cleaning"
   ]
  },
  {
   "cell_type": "code",
   "execution_count": 3,
   "id": "28722502-f809-4d4a-8c00-b608e51fb153",
   "metadata": {},
   "outputs": [],
   "source": [
    "# Clean and process the 'Rating' column (remove \"New\", handle non-numeric values)\n",
    "df[\"Rating\"] = df[\"Rating\"].astype(str).str.replace(\"New\", \"\").str.strip().str.split().str[0]\n",
    "df[\"Rating\"] = pd.to_numeric(df[\"Rating\"], errors='coerce').fillna(0)"
   ]
  },
  {
   "cell_type": "code",
   "execution_count": 4,
   "id": "17dd7bae-64f0-4961-9565-6055682d297a",
   "metadata": {},
   "outputs": [],
   "source": [
    "# Replace NaN values in the DataFrame with suitable defaults\n",
    "df.fillna({\n",
    "    'Bus_Route': '',                 # Replace missing bus routes with an empty string\n",
    "    'Bus_Link': '',                  # Replace missing bus links with an empty string\n",
    "    'Bus_Name': '',                  # Replace missing bus names with an empty string\n",
    "    'Bus_Type': '',                  # Replace missing bus types with an empty string\n",
    "    'Departure_Time': '00:00:00',    # Replace missing times with default time\n",
    "    'Arrival_Time': '00:00:00',      # Replace missing times with default time\n",
    "    'Duration': '',                  # Replace missing duration with an empty string\n",
    "    'Fare': 0,                       # Replace missing fares with 0\n",
    "    'Rating': 0,                     # Replace missing ratings with 0\n",
    "    'Seat_Availability': 0           # Replace missing seat availability with 0\n",
    "}, inplace=True)"
   ]
  },
  {
   "cell_type": "code",
   "execution_count": 5,
   "id": "a8286244-29e0-4050-b252-f14f6cf67beb",
   "metadata": {
    "scrolled": true
   },
   "outputs": [
    {
     "name": "stdout",
     "output_type": "stream",
     "text": [
      "Data inserted successfully\n"
     ]
    }
   ],
   "source": [
    "# Establish a connection to MySQL database\n",
    "try:\n",
    "    conn = mysql.connector.connect(\n",
    "        host='localhost',\n",
    "        user=\"root\",\n",
    "        password=\"12345\",\n",
    "        database=\"Redbus\"\n",
    "    )\n",
    "    cursor = conn.cursor()\n",
    "\n",
    "    # Define the insert query matching the column names from the MySQL table\n",
    "    insert_query = '''\n",
    "        INSERT INTO bus_routes (\n",
    "            route_name, route_link, busname, bustype, departing_time, duration, \n",
    "            reaching_time, star_rating, price, seats_available\n",
    "        ) VALUES (%s, %s, %s, %s, %s, %s, %s, %s, %s, %s)\n",
    "    '''\n",
    "\n",
    "    # Prepare the data for insertion, ensuring column order matches the query\n",
    "    data_to_insert = df[['Bus_Route', 'Bus_Link', 'Bus_Name', 'Bus_Type', 'Departure_Time', \n",
    "                         'Duration', 'Arrival_Time', 'Rating', 'Fare', 'Seat_Availability']].values.tolist()\n",
    "\n",
    "    # Insert data into the MySQL table\n",
    "    cursor.executemany(insert_query, data_to_insert)\n",
    "    conn.commit()\n",
    "\n",
    "    print(\"Data inserted successfully\")\n",
    "\n",
    "except mysql.connector.Error as err:\n",
    "    print(f\"Error: {err}\")\n",
    "    conn.rollback()\n",
    "\n",
    "finally:\n",
    "    cursor.close()\n",
    "    conn.close()"
   ]
  },
  {
   "cell_type": "code",
   "execution_count": null,
   "id": "4506ba31-d276-44c5-b47e-bc00defb4bae",
   "metadata": {},
   "outputs": [],
   "source": []
  }
 ],
 "metadata": {
  "kernelspec": {
   "display_name": "Python 3 (ipykernel)",
   "language": "python",
   "name": "python3"
  },
  "language_info": {
   "codemirror_mode": {
    "name": "ipython",
    "version": 3
   },
   "file_extension": ".py",
   "mimetype": "text/x-python",
   "name": "python",
   "nbconvert_exporter": "python",
   "pygments_lexer": "ipython3",
   "version": "3.11.7"
  }
 },
 "nbformat": 4,
 "nbformat_minor": 5
}
